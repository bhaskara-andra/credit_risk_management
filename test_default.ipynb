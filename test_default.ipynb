{
 "cells": [
  {
   "cell_type": "code",
   "execution_count": 3,
   "metadata": {},
   "outputs": [],
   "source": [
    "from langchain.vectorstores.chroma import Chroma"
   ]
  },
  {
   "cell_type": "code",
   "execution_count": 10,
   "metadata": {},
   "outputs": [],
   "source": [
    "from langchain.vectorstores.chroma import Chroma"
   ]
  },
  {
   "cell_type": "code",
   "execution_count": 4,
   "metadata": {},
   "outputs": [],
   "source": [
    "from langchain_community.vectorstores import Chroma"
   ]
  },
  {
   "cell_type": "code",
   "execution_count": 3,
   "metadata": {},
   "outputs": [],
   "source": [
    "import numpy as np\n",
    "import pandas as pd"
   ]
  },
  {
   "cell_type": "code",
   "execution_count": 1,
   "metadata": {},
   "outputs": [],
   "source": [
    "\n",
    "# Define the constant coefficients\n",
    "b0 = -1.5\n",
    "b1 = -0.005\n",
    "b2 = 0.07"
   ]
  },
  {
   "cell_type": "code",
   "execution_count": 6,
   "metadata": {},
   "outputs": [
    {
     "name": "stdout",
     "output_type": "stream",
     "text": [
      "   credit_score   dti       z  default_probability\n",
      "0           520  0.44 -4.0692             0.016804\n",
      "1           520  0.68 -4.0524             0.017084\n",
      "2           451  0.31 -3.7333             0.023355\n",
      "3           800  0.23 -5.4839             0.004136\n",
      "4           850  0.70 -5.7010             0.003331\n"
     ]
    }
   ],
   "source": [
    "# Create a sample dataset with credit score and DTI\n",
    "test_data = {'credit_score': [520, 520, 451, 800, 850],\n",
    "        'dti': [0.44, 0.68, 0.31, 0.23, 0.7]}\n",
    "test_df = pd.DataFrame(test_data)\n",
    "\n",
    "# Calculate the z value\n",
    "test_df['z'] = b0 + b1 * test_df['credit_score'] + b2 * test_df['dti']\n",
    "\n",
    "# Calculate the default probability\n",
    "test_df['default_probability'] = 1 / (1 + np.exp(-test_df['z']))\n",
    "\n",
    "print(test_df)"
   ]
  },
  {
   "cell_type": "code",
   "execution_count": 7,
   "metadata": {},
   "outputs": [
    {
     "name": "stdout",
     "output_type": "stream",
     "text": [
      "Collecting streamlit\n",
      "  Downloading streamlit-1.39.0-py2.py3-none-any.whl.metadata (8.5 kB)\n",
      "Collecting altair<6,>=4.0 (from streamlit)\n",
      "  Downloading altair-5.4.1-py3-none-any.whl.metadata (9.4 kB)\n",
      "Collecting blinker<2,>=1.0.0 (from streamlit)\n",
      "  Using cached blinker-1.8.2-py3-none-any.whl.metadata (1.6 kB)\n",
      "Requirement already satisfied: cachetools<6,>=4.0 in e:\\edu-files\\usecases_ai+ml\\genai_creditrisk_usecase\\.venv\\lib\\site-packages (from streamlit) (5.5.0)\n",
      "Requirement already satisfied: click<9,>=7.0 in e:\\edu-files\\usecases_ai+ml\\genai_creditrisk_usecase\\.venv\\lib\\site-packages (from streamlit) (8.1.7)\n",
      "Requirement already satisfied: numpy<3,>=1.20 in e:\\edu-files\\usecases_ai+ml\\genai_creditrisk_usecase\\.venv\\lib\\site-packages (from streamlit) (1.26.4)\n",
      "Requirement already satisfied: packaging<25,>=20 in e:\\edu-files\\usecases_ai+ml\\genai_creditrisk_usecase\\.venv\\lib\\site-packages (from streamlit) (24.1)\n",
      "Requirement already satisfied: pandas<3,>=1.4.0 in e:\\edu-files\\usecases_ai+ml\\genai_creditrisk_usecase\\.venv\\lib\\site-packages (from streamlit) (2.2.3)\n",
      "Collecting pillow<11,>=7.1.0 (from streamlit)\n",
      "  Using cached pillow-10.4.0-cp39-cp39-win_amd64.whl.metadata (9.3 kB)\n",
      "Requirement already satisfied: protobuf<6,>=3.20 in e:\\edu-files\\usecases_ai+ml\\genai_creditrisk_usecase\\.venv\\lib\\site-packages (from streamlit) (4.25.5)\n",
      "Collecting pyarrow>=7.0 (from streamlit)\n",
      "  Downloading pyarrow-17.0.0-cp39-cp39-win_amd64.whl.metadata (3.4 kB)\n",
      "Requirement already satisfied: requests<3,>=2.27 in e:\\edu-files\\usecases_ai+ml\\genai_creditrisk_usecase\\.venv\\lib\\site-packages (from streamlit) (2.32.3)\n",
      "Requirement already satisfied: rich<14,>=10.14.0 in e:\\edu-files\\usecases_ai+ml\\genai_creditrisk_usecase\\.venv\\lib\\site-packages (from streamlit) (13.9.2)\n",
      "Requirement already satisfied: tenacity<10,>=8.1.0 in e:\\edu-files\\usecases_ai+ml\\genai_creditrisk_usecase\\.venv\\lib\\site-packages (from streamlit) (8.5.0)\n",
      "Collecting toml<2,>=0.10.1 (from streamlit)\n",
      "  Using cached toml-0.10.2-py2.py3-none-any.whl.metadata (7.1 kB)\n",
      "Requirement already satisfied: typing-extensions<5,>=4.3.0 in e:\\edu-files\\usecases_ai+ml\\genai_creditrisk_usecase\\.venv\\lib\\site-packages (from streamlit) (4.12.2)\n",
      "Collecting gitpython!=3.1.19,<4,>=3.0.7 (from streamlit)\n",
      "  Using cached GitPython-3.1.43-py3-none-any.whl.metadata (13 kB)\n",
      "Collecting pydeck<1,>=0.8.0b4 (from streamlit)\n",
      "  Using cached pydeck-0.9.1-py2.py3-none-any.whl.metadata (4.1 kB)\n",
      "Requirement already satisfied: tornado<7,>=6.0.3 in e:\\edu-files\\usecases_ai+ml\\genai_creditrisk_usecase\\.venv\\lib\\site-packages (from streamlit) (6.4.1)\n",
      "Collecting watchdog<6,>=2.1.5 (from streamlit)\n",
      "  Downloading watchdog-5.0.3-py3-none-win_amd64.whl.metadata (41 kB)\n",
      "Requirement already satisfied: jinja2 in e:\\edu-files\\usecases_ai+ml\\genai_creditrisk_usecase\\.venv\\lib\\site-packages (from altair<6,>=4.0->streamlit) (3.1.4)\n",
      "Collecting jsonschema>=3.0 (from altair<6,>=4.0->streamlit)\n",
      "  Downloading jsonschema-4.23.0-py3-none-any.whl.metadata (7.9 kB)\n",
      "Collecting narwhals>=1.5.2 (from altair<6,>=4.0->streamlit)\n",
      "  Downloading narwhals-1.10.0-py3-none-any.whl.metadata (7.0 kB)\n",
      "Requirement already satisfied: colorama in e:\\edu-files\\usecases_ai+ml\\genai_creditrisk_usecase\\.venv\\lib\\site-packages (from click<9,>=7.0->streamlit) (0.4.6)\n",
      "Collecting gitdb<5,>=4.0.1 (from gitpython!=3.1.19,<4,>=3.0.7->streamlit)\n",
      "  Using cached gitdb-4.0.11-py3-none-any.whl.metadata (1.2 kB)\n",
      "Requirement already satisfied: python-dateutil>=2.8.2 in e:\\edu-files\\usecases_ai+ml\\genai_creditrisk_usecase\\.venv\\lib\\site-packages (from pandas<3,>=1.4.0->streamlit) (2.9.0.post0)\n",
      "Requirement already satisfied: pytz>=2020.1 in e:\\edu-files\\usecases_ai+ml\\genai_creditrisk_usecase\\.venv\\lib\\site-packages (from pandas<3,>=1.4.0->streamlit) (2024.2)\n",
      "Requirement already satisfied: tzdata>=2022.7 in e:\\edu-files\\usecases_ai+ml\\genai_creditrisk_usecase\\.venv\\lib\\site-packages (from pandas<3,>=1.4.0->streamlit) (2024.2)\n",
      "Requirement already satisfied: charset-normalizer<4,>=2 in e:\\edu-files\\usecases_ai+ml\\genai_creditrisk_usecase\\.venv\\lib\\site-packages (from requests<3,>=2.27->streamlit) (3.4.0)\n",
      "Requirement already satisfied: idna<4,>=2.5 in e:\\edu-files\\usecases_ai+ml\\genai_creditrisk_usecase\\.venv\\lib\\site-packages (from requests<3,>=2.27->streamlit) (3.10)\n",
      "Requirement already satisfied: urllib3<3,>=1.21.1 in e:\\edu-files\\usecases_ai+ml\\genai_creditrisk_usecase\\.venv\\lib\\site-packages (from requests<3,>=2.27->streamlit) (2.2.3)\n",
      "Requirement already satisfied: certifi>=2017.4.17 in e:\\edu-files\\usecases_ai+ml\\genai_creditrisk_usecase\\.venv\\lib\\site-packages (from requests<3,>=2.27->streamlit) (2024.8.30)\n",
      "Requirement already satisfied: markdown-it-py>=2.2.0 in e:\\edu-files\\usecases_ai+ml\\genai_creditrisk_usecase\\.venv\\lib\\site-packages (from rich<14,>=10.14.0->streamlit) (3.0.0)\n",
      "Requirement already satisfied: pygments<3.0.0,>=2.13.0 in e:\\edu-files\\usecases_ai+ml\\genai_creditrisk_usecase\\.venv\\lib\\site-packages (from rich<14,>=10.14.0->streamlit) (2.18.0)\n",
      "Collecting smmap<6,>=3.0.1 (from gitdb<5,>=4.0.1->gitpython!=3.1.19,<4,>=3.0.7->streamlit)\n",
      "  Using cached smmap-5.0.1-py3-none-any.whl.metadata (4.3 kB)\n",
      "Requirement already satisfied: MarkupSafe>=2.0 in e:\\edu-files\\usecases_ai+ml\\genai_creditrisk_usecase\\.venv\\lib\\site-packages (from jinja2->altair<6,>=4.0->streamlit) (3.0.2)\n",
      "Requirement already satisfied: attrs>=22.2.0 in e:\\edu-files\\usecases_ai+ml\\genai_creditrisk_usecase\\.venv\\lib\\site-packages (from jsonschema>=3.0->altair<6,>=4.0->streamlit) (24.2.0)\n",
      "Collecting jsonschema-specifications>=2023.03.6 (from jsonschema>=3.0->altair<6,>=4.0->streamlit)\n",
      "  Downloading jsonschema_specifications-2024.10.1-py3-none-any.whl.metadata (3.0 kB)\n",
      "Collecting referencing>=0.28.4 (from jsonschema>=3.0->altair<6,>=4.0->streamlit)\n",
      "  Using cached referencing-0.35.1-py3-none-any.whl.metadata (2.8 kB)\n",
      "Collecting rpds-py>=0.7.1 (from jsonschema>=3.0->altair<6,>=4.0->streamlit)\n",
      "  Downloading rpds_py-0.20.0-cp39-none-win_amd64.whl.metadata (4.2 kB)\n",
      "Requirement already satisfied: mdurl~=0.1 in e:\\edu-files\\usecases_ai+ml\\genai_creditrisk_usecase\\.venv\\lib\\site-packages (from markdown-it-py>=2.2.0->rich<14,>=10.14.0->streamlit) (0.1.2)\n",
      "Requirement already satisfied: six>=1.5 in e:\\edu-files\\usecases_ai+ml\\genai_creditrisk_usecase\\.venv\\lib\\site-packages (from python-dateutil>=2.8.2->pandas<3,>=1.4.0->streamlit) (1.16.0)\n",
      "Downloading streamlit-1.39.0-py2.py3-none-any.whl (8.7 MB)\n",
      "   ---------------------------------------- 0.0/8.7 MB ? eta -:--:--\n",
      "   ---------- ----------------------------- 2.4/8.7 MB 13.4 MB/s eta 0:00:01\n",
      "   ----------------------- ---------------- 5.2/8.7 MB 13.3 MB/s eta 0:00:01\n",
      "   ---------------------------------------  8.7/8.7 MB 14.1 MB/s eta 0:00:01\n",
      "   ---------------------------------------- 8.7/8.7 MB 12.9 MB/s eta 0:00:00\n",
      "Downloading altair-5.4.1-py3-none-any.whl (658 kB)\n",
      "   ---------------------------------------- 0.0/658.1 kB ? eta -:--:--\n",
      "   --------------------------------------- 658.1/658.1 kB 12.4 MB/s eta 0:00:00\n",
      "Using cached blinker-1.8.2-py3-none-any.whl (9.5 kB)\n",
      "Using cached GitPython-3.1.43-py3-none-any.whl (207 kB)\n",
      "Using cached pillow-10.4.0-cp39-cp39-win_amd64.whl (2.6 MB)\n",
      "Downloading pyarrow-17.0.0-cp39-cp39-win_amd64.whl (25.1 MB)\n",
      "   ---------------------------------------- 0.0/25.1 MB ? eta -:--:--\n",
      "   ----- ---------------------------------- 3.7/25.1 MB 19.8 MB/s eta 0:00:02\n",
      "   ----------- ---------------------------- 7.3/25.1 MB 18.1 MB/s eta 0:00:01\n",
      "   --------------- ------------------------ 9.7/25.1 MB 15.5 MB/s eta 0:00:01\n",
      "   ------------------- -------------------- 12.1/25.1 MB 14.2 MB/s eta 0:00:01\n",
      "   ----------------------- ---------------- 14.9/25.1 MB 14.0 MB/s eta 0:00:01\n",
      "   --------------------------- ------------ 17.6/25.1 MB 13.8 MB/s eta 0:00:01\n",
      "   -------------------------------- ------- 20.4/25.1 MB 13.7 MB/s eta 0:00:01\n",
      "   ------------------------------------- -- 23.3/25.1 MB 13.7 MB/s eta 0:00:01\n",
      "   ---------------------------------------  24.9/25.1 MB 13.5 MB/s eta 0:00:01\n",
      "   ---------------------------------------- 25.1/25.1 MB 12.6 MB/s eta 0:00:00\n",
      "Using cached pydeck-0.9.1-py2.py3-none-any.whl (6.9 MB)\n",
      "Using cached toml-0.10.2-py2.py3-none-any.whl (16 kB)\n",
      "Downloading watchdog-5.0.3-py3-none-win_amd64.whl (79 kB)\n",
      "Using cached gitdb-4.0.11-py3-none-any.whl (62 kB)\n",
      "Downloading jsonschema-4.23.0-py3-none-any.whl (88 kB)\n",
      "Downloading narwhals-1.10.0-py3-none-any.whl (193 kB)\n",
      "Downloading jsonschema_specifications-2024.10.1-py3-none-any.whl (18 kB)\n",
      "Using cached referencing-0.35.1-py3-none-any.whl (26 kB)\n",
      "Downloading rpds_py-0.20.0-cp39-none-win_amd64.whl (213 kB)\n",
      "Using cached smmap-5.0.1-py3-none-any.whl (24 kB)\n",
      "Installing collected packages: watchdog, toml, smmap, rpds-py, pyarrow, pillow, narwhals, blinker, referencing, pydeck, gitdb, jsonschema-specifications, gitpython, jsonschema, altair, streamlit\n",
      "  Attempting uninstall: pillow\n",
      "    Found existing installation: pillow 11.0.0\n",
      "    Uninstalling pillow-11.0.0:\n",
      "      Successfully uninstalled pillow-11.0.0\n",
      "Successfully installed altair-5.4.1 blinker-1.8.2 gitdb-4.0.11 gitpython-3.1.43 jsonschema-4.23.0 jsonschema-specifications-2024.10.1 narwhals-1.10.0 pillow-10.4.0 pyarrow-17.0.0 pydeck-0.9.1 referencing-0.35.1 rpds-py-0.20.0 smmap-5.0.1 streamlit-1.39.0 toml-0.10.2 watchdog-5.0.3\n"
     ]
    },
    {
     "name": "stderr",
     "output_type": "stream",
     "text": [
      "  WARNING: Failed to remove contents in a temporary directory 'E:\\edu-files\\UseCases_AI+ML\\GenAI_CreditRisk_usecase\\.venv\\Lib\\site-packages\\~il'.\n",
      "  You can safely remove it manually.\n"
     ]
    }
   ],
   "source": [
    "!pip install streamlit"
   ]
  },
  {
   "cell_type": "code",
   "execution_count": null,
   "metadata": {},
   "outputs": [],
   "source": []
  }
 ],
 "metadata": {
  "kernelspec": {
   "display_name": ".venv",
   "language": "python",
   "name": "python3"
  },
  "language_info": {
   "codemirror_mode": {
    "name": "ipython",
    "version": 3
   },
   "file_extension": ".py",
   "mimetype": "text/x-python",
   "name": "python",
   "nbconvert_exporter": "python",
   "pygments_lexer": "ipython3",
   "version": "3.9.13"
  }
 },
 "nbformat": 4,
 "nbformat_minor": 2
}
